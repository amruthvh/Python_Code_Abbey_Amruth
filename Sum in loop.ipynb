{
 "cells": [
  {
   "cell_type": "code",
   "execution_count": 72,
   "id": "21e9ec53-ccbc-41b1-b3ba-b65f53f2f4c5",
   "metadata": {},
   "outputs": [
    {
     "name": "stdin",
     "output_type": "stream",
     "text": [
      "values:  1254 1058 145 681 1090 880 1196 735 1233 743 1066 649 698 924 828 839 80 43 10 202 631 1139 1096 118 861 1020 1174 360 1118 402 267 846 79 318 941\n"
     ]
    },
    {
     "name": "stdout",
     "output_type": "stream",
     "text": [
      "24724\n"
     ]
    }
   ],
   "source": [
    "#Input values\n",
    "input_values = input('values: ')\n",
    "\n",
    "#Split Values\n",
    "Values = input_values.split()\n",
    "\n",
    "#Convert string values into integers in order to perform mathematical operations\n",
    "for i in range(len(Values)):\n",
    "    Values[i] = int(Values[i])\n",
    "\n",
    "#sum of values using the function \"sum\"\n",
    "print (sum(Values))"
   ]
  },
  {
   "cell_type": "code",
   "execution_count": null,
   "id": "b2765d75-4e09-4166-a073-f2d7638e5309",
   "metadata": {},
   "outputs": [],
   "source": []
  }
 ],
 "metadata": {
  "kernelspec": {
   "display_name": "Python 3 (ipykernel)",
   "language": "python",
   "name": "python3"
  },
  "language_info": {
   "codemirror_mode": {
    "name": "ipython",
    "version": 3
   },
   "file_extension": ".py",
   "mimetype": "text/x-python",
   "name": "python",
   "nbconvert_exporter": "python",
   "pygments_lexer": "ipython3",
   "version": "3.9.12"
  }
 },
 "nbformat": 4,
 "nbformat_minor": 5
}
