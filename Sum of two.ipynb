{
 "cells": [
  {
   "cell_type": "code",
   "execution_count": 3,
   "id": "40196e57-e40c-4665-9e3b-189ce52d8417",
   "metadata": {},
   "outputs": [
    {
     "name": "stdin",
     "output_type": "stream",
     "text": [
      "Enter Values:  11610 5016\n"
     ]
    },
    {
     "name": "stdout",
     "output_type": "stream",
     "text": [
      "16626\n"
     ]
    }
   ],
   "source": [
    "Input_values = input('Enter Values: ')\n",
    "\n",
    "Values = Input_values.split()\n",
    "\n",
    "for i in range(len(Values)):\n",
    "    Values[i] = int(Values[i])\n",
    "    \n",
    "print(sum(Values))"
   ]
  },
  {
   "cell_type": "code",
   "execution_count": null,
   "id": "1970be20-7a17-4837-9f4e-96fb72f4e9b4",
   "metadata": {},
   "outputs": [],
   "source": []
  }
 ],
 "metadata": {
  "kernelspec": {
   "display_name": "Python 3 (ipykernel)",
   "language": "python",
   "name": "python3"
  },
  "language_info": {
   "codemirror_mode": {
    "name": "ipython",
    "version": 3
   },
   "file_extension": ".py",
   "mimetype": "text/x-python",
   "name": "python",
   "nbconvert_exporter": "python",
   "pygments_lexer": "ipython3",
   "version": "3.9.12"
  }
 },
 "nbformat": 4,
 "nbformat_minor": 5
}
